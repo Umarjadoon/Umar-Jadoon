{
  "nbformat": 4,
  "nbformat_minor": 0,
  "metadata": {
    "colab": {
      "provenance": []
    },
    "kernelspec": {
      "name": "python3",
      "display_name": "Python 3"
    },
    "language_info": {
      "name": "python"
    }
  },
  "cells": [
    {
      "cell_type": "markdown",
      "source": [
        "**Create a 1D array of numbers from 0 to 9**"
      ],
      "metadata": {
        "id": "jIjGbqxCZg2q"
      }
    },
    {
      "cell_type": "markdown",
      "source": [],
      "metadata": {
        "id": "md62MW60Zfub"
      }
    },
    {
      "cell_type": "code",
      "execution_count": 5,
      "metadata": {
        "colab": {
          "base_uri": "https://localhost:8080/"
        },
        "id": "SukpvzhkXhVc",
        "outputId": "a0883164-ae43-441c-f7f1-a472d40a37bc"
      },
      "outputs": [
        {
          "output_type": "stream",
          "name": "stdout",
          "text": [
            "[1 2 3 4 5 6 7 8 9]\n"
          ]
        }
      ],
      "source": [
        "import numpy\n",
        "\n",
        "import numpy\n",
        "\n",
        "arr = numpy.array([1, 2, 3, 4, 5,6,7,8,9])\n",
        "\n",
        "print(arr)"
      ]
    },
    {
      "cell_type": "code",
      "source": [],
      "metadata": {
        "id": "ndZsxC24Z7bf"
      },
      "execution_count": null,
      "outputs": []
    },
    {
      "cell_type": "markdown",
      "source": [
        "Create a 2D array with shape (3, 3), where values range from 1 to 9."
      ],
      "metadata": {
        "id": "M8BzlHgTZ8Ey"
      }
    },
    {
      "cell_type": "code",
      "source": [
        "import numpy as np\n",
        "\n",
        "arr = np.array([[1,2,3,4,5,6,7,8,9], [1,2,3,4,5,6,7,8,9], [1,2,3,4,5,6,7,8,9]])\n",
        "\n",
        "print(arr)\n"
      ],
      "metadata": {
        "colab": {
          "base_uri": "https://localhost:8080/"
        },
        "id": "5qiKcd3PaRfD",
        "outputId": "80070622-0591-4b1f-da81-ea2a9f526b9f"
      },
      "execution_count": 7,
      "outputs": [
        {
          "output_type": "stream",
          "name": "stdout",
          "text": [
            "[[1 2 3 4 5 6 7 8 9]\n",
            " [1 2 3 4 5 6 7 8 9]\n",
            " [1 2 3 4 5 6 7 8 9]]\n"
          ]
        }
      ]
    },
    {
      "cell_type": "markdown",
      "source": [
        "**Create a 3D array of shape (2, 3, 4) filled with random integers from 1 to 100**."
      ],
      "metadata": {
        "id": "dUP3hT2JbyDr"
      }
    },
    {
      "cell_type": "code",
      "source": [
        "import numpy as np\n",
        "\n",
        "arr3 = np.array([[[1,2,0], [2,1,0], [4,3,0]],\n",
        " [[1,2,3], [4,3,2], [3,3,3]],\n",
        " [[4,3,2], [1,2,3], [4,4,4]]])\n",
        "\n",
        "print(arr3)"
      ],
      "metadata": {
        "colab": {
          "base_uri": "https://localhost:8080/"
        },
        "id": "VozKinZab5Hr",
        "outputId": "2dc3009f-4fa4-453b-94a9-e8b99ff8a53e"
      },
      "execution_count": 8,
      "outputs": [
        {
          "output_type": "stream",
          "name": "stdout",
          "text": [
            "[[[1 2 0]\n",
            "  [2 1 0]\n",
            "  [4 3 0]]\n",
            "\n",
            " [[1 2 3]\n",
            "  [4 3 2]\n",
            "  [3 3 3]]\n",
            "\n",
            " [[4 3 2]\n",
            "  [1 2 3]\n",
            "  [4 4 4]]]\n"
          ]
        }
      ]
    },
    {
      "cell_type": "markdown",
      "source": [],
      "metadata": {
        "id": "LxX3wM13aMbz"
      }
    },
    {
      "cell_type": "code",
      "source": [],
      "metadata": {
        "id": "joz8iB4yaN6b"
      },
      "execution_count": null,
      "outputs": []
    },
    {
      "cell_type": "markdown",
      "source": [
        "**Task 2: Array Indexing and Slicing**\n",
        "**Given the array arr2 from Task 1, extract the second row.**"
      ],
      "metadata": {
        "id": "qapXmMhvdp1T"
      }
    },
    {
      "cell_type": "code",
      "source": [
        "import numpy as np\n",
        "second_row = arr[1, :]\n",
        "print(second_row)"
      ],
      "metadata": {
        "colab": {
          "base_uri": "https://localhost:8080/"
        },
        "id": "WM8uALy5d1vU",
        "outputId": "00c80c9a-3b98-45be-b7b2-6cc73e9a58f3"
      },
      "execution_count": 10,
      "outputs": [
        {
          "output_type": "stream",
          "name": "stdout",
          "text": [
            "[1 2 3 4 5 6 7 8 9]\n"
          ]
        }
      ]
    },
    {
      "cell_type": "markdown",
      "source": [],
      "metadata": {
        "id": "hsIX5BgvaKba"
      }
    },
    {
      "cell_type": "code",
      "source": [],
      "metadata": {
        "id": "zqW28P97aAbq"
      },
      "execution_count": null,
      "outputs": []
    }
  ]
}